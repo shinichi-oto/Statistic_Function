{
 "cells": [
  {
   "cell_type": "markdown",
   "id": "e165849d-9c6c-409b-90c7-802ffb1b5e07",
   "metadata": {},
   "source": [
    "# Hypothesis Testing"
   ]
  },
  {
   "cell_type": "code",
   "execution_count": 2,
   "id": "ce955468-8ea4-4046-9757-d163cd7aa660",
   "metadata": {},
   "outputs": [],
   "source": [
    "#import scikit_posthocs as sp\n",
    "import numpy as np\n",
    "from scipy import stats\n",
    "import pandas as pd\n",
    "pd.options.display.float_format = '{:,.4f}'.format"
   ]
  },
  {
   "cell_type": "code",
   "execution_count": 3,
   "id": "319f74d0-57cb-45e3-bb48-72641373ebb5",
   "metadata": {},
   "outputs": [],
   "source": [
    "def check_normality(data):\n",
    "    test_stat_normality, p_value_normality=stats.shapiro(data)\n",
    "    print(\"p value:%.4f\" % p_value_normality)\n",
    "    if p_value_normality <0.05:\n",
    "        print(\"Reject null hypothesis >> The data is not normally distributed\")\n",
    "    else:\n",
    "        print(\"Fail to reject null hypothesis >> The data is normally distributed\")       "
   ]
  },
  {
   "cell_type": "code",
   "execution_count": 4,
   "id": "da3cf92e-3cce-41fa-a352-11db893d564e",
   "metadata": {},
   "outputs": [],
   "source": [
    "def check_variance_homogeneity(group1, group2):\n",
    "    test_stat_var, p_value_var= stats.levene(group1,group2)\n",
    "    print(\"p value:%.4f\" % p_value_var)\n",
    "    if p_value_var <0.05:\n",
    "        print(\"Reject null hypothesis >> The variances of the samples are different.\")\n",
    "    else:\n",
    "        print(\"Fail to reject null hypothesis >> The variances of the samples are same.\")"
   ]
  },
  {
   "cell_type": "markdown",
   "id": "d3d991c6-a5be-4fdd-8447-2d606157d29e",
   "metadata": {},
   "source": [
    "# Q1.\n",
    "\n",
    "A university professor gave online lectures instead of face-to-face classes due to Covid-19. Later, he uploaded recorded lectures to the cloud for students who followed the course asynchronously (those who did not attend the lesson but later watched the records). However, he believes that the students who attend class at the class time and participate in the process are more successful. Therefore, he recorded the average grades of the students at the end of the semester. The data is below.\n",
    "\n",
    "synchronous = [94. , 84.9, 82.6, 69.5, 80.1, 79.6, 81.4, 77.8, 81.7, 78.8, 73.2, 87.9, 87.9, 93.5, 82.3, 79.3, 78.3, 71.6, 88.6, 74.6, 74.1, 80.6]\n",
    "asynchronous = [77.1, 71.7, 91. , 72.2, 74.8, 85.1, 67.6, 69.9, 75.3, 71.7, 65.7, 72.6, 71.5, 78.2]\n",
    "\n",
    "**Conduct the hypothesis testing to check whether the professor's belief is statistically significant by using a 0.05 significance level to evaluate the null and alternative hypotheses. Before doing hypothesis testing, check the related assumptions. Comment on the results.**\n",
    "\n",
    "## Assumptions\n",
    "Observations in each sample are independent and identically distributed (iid).\n",
    "\n",
    "Observations in each sample are normally distributed.\n",
    "\n",
    "Observations in each sample have the same variance."
   ]
  },
  {
   "cell_type": "markdown",
   "id": "c27f76ae-f708-4424-94c9-2b4ddb24f42a",
   "metadata": {},
   "source": [
    "# Q1.\n",
    "ある大学の先生が，Covid-19の関係で対面授業ではなく，オンライン講義を行った。その後，非同期で受講する学生（授業に出席せず，後で記録を見る人）のために，録画した講義をクラウドにアップロードしています。しかし、授業時間に出席し、そのプロセスに参加した学生の方が、より成果を上げることができると彼は考えている。そこで、彼は学期末に学生の平均成績を記録した。そのデータは以下の通りである。\n",
    "\n",
    "同期 = [94. , 84.9, 82.6, 69.5, 80.1, 79.6, 81.4, 77.8, 81.7, 78.8, 73.2, 87.9, 87.9, 93.5, 82.3, 79.3, 78.3, 71.6, 88.6, 74.6, 74.1, 80.6]\n",
    "\n",
    "非同期 = [77.1, 71.7, 91. , 72.2, 74.8, 85.1, 67.6, 69.9, 75.3, 71.7, 65.7, 72.6, 71.5, 78.2]\n",
    "\n",
    "**帰無仮説と対立仮説を評価するために、有意水準0.05を用いて、教授の信念が統計的に有意であるかどうかを確認する仮説検定を実施しなさい。仮説検証を行う前に、関連する仮定を確認する。その結果についてコメントしなさい。**\n",
    "\n",
    "# 前提条件\n",
    "各標本の観測値は独立同分布（iid）である。\n",
    "\n",
    "各標本の観測値は，正規分布している．\n",
    "\n",
    "各標本の観測値は，同じ分散である。\n"
   ]
  },
  {
   "cell_type": "code",
   "execution_count": 5,
   "id": "dd367297-d130-4e29-a14a-340a0c04186f",
   "metadata": {},
   "outputs": [],
   "source": [
    "sync = np.array([94. , 84.9, 82.6, 69.5, 80.1, 79.6, 81.4, 77.8, 81.7, 78.8, 73.2,\n",
    "       87.9, 87.9, 93.5, 82.3, 79.3, 78.3, 71.6, 88.6, 74.6, 74.1, 80.6])\n",
    "asyncr =np.array([77.1, 71.7, 91. , 72.2, 74.8, 85.1, 67.6, 69.9, 75.3, 71.7, 65.7, 72.6, 71.5, 78.2])"
   ]
  },
  {
   "cell_type": "markdown",
   "id": "983929a8-6445-4bea-8132-efc625e00b1a",
   "metadata": {},
   "source": [
    "## 1.仮説の定義\n",
    "\n",
    "成績はさまざまな個人から取得されるため、データは対になっていない。\n",
    "\n",
    "H₀： μₛ≤μₐ\n",
    "\n",
    "H₁ ：μₛ >μₐ\n",
    "\n",
    "## 2.仮定チェック\n",
    "H₀：データは正規分布しています。\n",
    "H₁：データは正規分布していません。\n",
    "α=0.05と仮定します。p値が>0.05の場合、データは正規分布していると言えます。\n",
    "\n",
    "正規性をチェックするために、私はシャピロ-ウィルクのW検定を使用しました。これは一般的に小さいサンプルに好まれますが、コルモゴロフ-スミルノフとダゴスティーノのような他のオプションとピアソンの検定があります。[詳細_docs.scipy](https://docs.scipy.org/doc/scipy/reference/stats.html)"
   ]
  },
  {
   "cell_type": "code",
   "execution_count": 6,
   "id": "7aa8610b-180b-4079-9ee2-3c82c7d69409",
   "metadata": {},
   "outputs": [
    {
     "name": "stdout",
     "output_type": "stream",
     "text": [
      "p value:0.6556\n",
      "Fail to reject null hypothesis >> The data is normally distributed\n",
      "p value:0.0803\n",
      "Fail to reject null hypothesis >> The data is normally distributed\n"
     ]
    }
   ],
   "source": [
    "check_normality(sync)\n",
    "check_normality(asyncr)"
   ]
  },
  {
   "cell_type": "markdown",
   "id": "8c004b89-03ec-4e65-aabd-c69e37e7730c",
   "metadata": {},
   "source": [
    "H₀：サンプルの分散は同じです。\n",
    "\n",
    "H₁：サンプルの分散が異なります。\n",
    "\n",
    "これは母分散が等しいという帰無仮説を検定する（分散の均質性または均分散性と呼ばれる)\n",
    "\n",
    "Leveneの検定の結果のp値がある有意水準（通常0.05）より小さい場合，標本分散の得られた差は，分散が等しい集団からの無作為抽出に基づいて発生したとは考えにくい。\n",
    "\n",
    "分散の均一性をチェックするために、Leveneのテストを使用、Bartlettのテストをチェックすることもできます\n",
    "\n",
    "[bartlett_test](https://docs.scipy.org/doc/scipy/reference/generated/scipy.stats.bartlett.html#scipy.stats.bartlett)"
   ]
  },
  {
   "cell_type": "code",
   "execution_count": 7,
   "id": "b3798879-14d2-448a-aaab-1aea781c233d",
   "metadata": {},
   "outputs": [],
   "source": [
    "def check_variance_homogeneity(group1, group2):\n",
    "    test_stat_var, p_value_var= stats.levene(group1,group2)\n",
    "    print(\"p value:%.4f\" % p_value_var)\n",
    "    if p_value_var <0.05:\n",
    "        print(\"Reject null hypothesis >> The variances of the samples are different.\")\n",
    "    else:\n",
    "        print(\"Fail to reject null hypothesis >> The variances of the samples are same.\")"
   ]
  },
  {
   "cell_type": "code",
   "execution_count": 8,
   "id": "96eae069-9e3b-40e7-89e4-8a0d18ac49c9",
   "metadata": {},
   "outputs": [
    {
     "name": "stdout",
     "output_type": "stream",
     "text": [
      "p value:0.8149\n",
      "Fail to reject null hypothesis >> The variances of the samples are same.\n"
     ]
    }
   ],
   "source": [
    "check_variance_homogeneity(sync, asyncr)"
   ]
  },
  {
   "cell_type": "markdown",
   "id": "36536144-740b-4673-b61c-f661cc52ce92",
   "metadata": {},
   "source": [
    "帰無仮説を棄却できない→標本の分散は同じである。\n",
    "\n",
    "$ H_{0}:μ_{s} <= μ_{α}$\n",
    "\n",
    "$ H_{1}:μ_{s} > μ_{α}$"
   ]
  },
  {
   "cell_type": "markdown",
   "id": "4baf0a02-031b-4996-bf81-981cc52e287e",
   "metadata": {},
   "source": [
    "## 3.適切なテストの選択\n",
    "仮定が満たされているので、2つのグループと対になっていないデータに対してパラメトリックバージョンのテストを実行できます。"
   ]
  },
  {
   "cell_type": "code",
   "execution_count": 9,
   "id": "f6deec01-ee3a-458f-9108-c7fc00a79892",
   "metadata": {},
   "outputs": [
    {
     "name": "stdout",
     "output_type": "stream",
     "text": [
      "p value:0.00753598\n",
      "since the hypothesis is one sided >> use p_value/2 >> p_value_one_sided:0.0038\n",
      "Reject null hypothesis\n"
     ]
    }
   ],
   "source": [
    "ttest,p_value = stats.ttest_ind(sync,asyncr)\n",
    "print(\"p value:%.8f\" % p_value)\n",
    "print(\"since the hypothesis is one sided >> use p_value/2 >> p_value_one_sided:%.4f\" %(p_value/2))\n",
    "if p_value/2 <0.05:\n",
    "    print(\"Reject null hypothesis\")\n",
    "else:\n",
    "    print(\"Fail to reject null hypothesis\") "
   ]
  },
  {
   "cell_type": "markdown",
   "id": "0bf0a9e3-e0da-4c94-ba88-02484ff26d03",
   "metadata": {},
   "source": [
    "**仮説は片側なので、p_value/2を使用 >> p_value_one_sided:0.0038**\n",
    "\n",
    "**帰無仮説を棄却**\n",
    "\n",
    "# 4.決定と結論\n",
    "この有意水準では、コースを同期的にフォローする学生の平均成績が、コースを非同期的にフォローする学生よりも高いと結論付けるのに十分な証拠があります。"
   ]
  },
  {
   "cell_type": "markdown",
   "id": "c1c86fcd-f2db-496c-9a9c-51890f31ad50",
   "metadata": {},
   "source": [
    "# Q2. ANOVA\n",
    "\n",
    "小児科医は、乳児の平均月間体重増加（gr）に対する粉ミルクの消費の影響を確認したいと考えています。このため、彼女は3つの異なるグループからデータを収集しました。最初のグループは母乳だけで育てられた子供（母乳のみを受け取る）であり、2番目のグループは粉ミルクのみを与えられた子供であり、最後のグループは粉ミルクと母乳で育てられた子供です。これらのデータは以下のとおりです。\n",
    "\n",
    "only_breast = [794.1、716.9、993.、724.7、760.9、908.2、659.3、690.8、768.7、717.3、630.7、729.5、714.1、810.3、583.5、679.9、865.1]\n",
    "\n",
    "only_formula = [898.8、881.2、940.2、966.2、957.5、1061.7、1046.2、980.4、895.6、919.7、1074.1、952.5、796.3、859.6、871.1、1047.5、919.1、1160.5、996.9]\n",
    "\n",
    "両方=[976.4、656.4、861.2、706.8、718.5、717.1、759.8、894.6、867.6、805.6、765.4、800.3、789.9、875.3、740。、799.4、790.3、795.2、823.6、818.7、926.8、791.7、948.3]\n",
    "\n",
    "この情報に従って、0.05の有意水準を使用して、これら3つのグループの平均月間ゲインに差があるかどうかを確認するために仮説検定を実行します。大きな違いがある場合は、さらに分析を実行して、違いの原因を見つけます。仮説検定を行う前に、関連する仮定を確認してください。"
   ]
  },
  {
   "cell_type": "markdown",
   "id": "3e7e2c7c-6d56-4e33-a884-f9bcde03d4f6",
   "metadata": {},
   "source": [
    "## 1.仮説の定義\n",
    "\n",
    "H3 ： μ3=μ²=μ3またはサンプルの平均は同じです。\n",
    "\n",
    "H₁：少なくとも1つは異なります。\n",
    "\n",
    "## 2.仮定チェック\n"
   ]
  },
  {
   "cell_type": "code",
   "execution_count": 10,
   "id": "bc21a510-2eda-4735-89ef-936e3f576eaa",
   "metadata": {},
   "outputs": [],
   "source": [
    "only_breast=np.array([794.1, 716.9, 993. , 724.7, 760.9, 908.2, 659.3 , 690.8, 768.7,\n",
    "       717.3 , 630.7, 729.5, 714.1, 810.3, 583.5, 679.9, 865.1])\n",
    "\n",
    "only_formula=np.array([ 898.8,  881.2,  940.2,  966.2,  957.5, 1061.7, 1046.2,  980.4,\n",
    "        895.6,  919.7, 1074.1,  952.5,  796.3,  859.6,  871.1 , 1047.5,\n",
    "        919.1 , 1160.5,  996.9])\n",
    "\n",
    "both=np.array([976.4, 656.4, 861.2, 706.8, 718.5, 717.1, 759.8, 894.6, 867.6,\n",
    "       805.6, 765.4, 800.3, 789.9, 875.3, 740. , 799.4, 790.3, 795.2 ,\n",
    "       823.6, 818.7, 926.8, 791.7, 948.3])"
   ]
  },
  {
   "cell_type": "markdown",
   "id": "ce33b79b-535d-4d99-ab1c-8e7c7df9448f",
   "metadata": {},
   "source": [
    "H₀：データは正規分布しています。\n",
    "\n",
    "H₁：データは正規分布していません。"
   ]
  },
  {
   "cell_type": "code",
   "execution_count": 12,
   "id": "c2f86378-d72e-497b-8820-5985d902a3bc",
   "metadata": {},
   "outputs": [
    {
     "name": "stdout",
     "output_type": "stream",
     "text": [
      "p value:0.4694\n",
      "Fail to reject null hypothesis >> The data is normally distributed\n",
      "p value:0.8879\n",
      "Fail to reject null hypothesis >> The data is normally distributed\n",
      "p value:0.7973\n",
      "Fail to reject null hypothesis >> The data is normally distributed\n"
     ]
    }
   ],
   "source": [
    "check_normality(only_breast)\n",
    "check_normality(only_formula)\n",
    "check_normality(both)"
   ]
  },
  {
   "cell_type": "markdown",
   "id": "0e738f53-3ef5-4c45-9c28-a629a20bd8c9",
   "metadata": {},
   "source": [
    "p値:0.4694 : 帰無仮説を棄却できない→データは正規分布している\n",
    "\n",
    "p値:0.8879 : 帰無仮説を棄却できない場合 >> データは正規に分布している\n",
    "\n",
    "p値:0.7973 : 帰無仮説の棄却に失敗 >> データは正規に分布している\n",
    "\n",
    "$H_{0}$ : 標本の分散は同じである。\n",
    "\n",
    "$H_{1}$ : 標本の分散は異なっている。"
   ]
  },
  {
   "cell_type": "code",
   "execution_count": 13,
   "id": "0014b6ae-ac23-487b-85d7-39c8277fc795",
   "metadata": {},
   "outputs": [
    {
     "name": "stdout",
     "output_type": "stream",
     "text": [
      "p value:0.7673\n",
      "Fail to reject null hypothesis >> The variances of the samples are same.\n"
     ]
    }
   ],
   "source": [
    "stat, pvalue_levene= stats.levene(only_breast,only_formula,both)\n",
    "\n",
    "print(\"p value:%.4f\" % pvalue_levene)\n",
    "if pvalue_levene <0.05:\n",
    "    print(\"Reject null hypothesis >> The variances of the samples are different.\")\n",
    "else:\n",
    "    print(\"Fail to reject null hypothesis >> The variances of the samples are same.\")"
   ]
  },
  {
   "cell_type": "markdown",
   "id": "ca29f34c-52f8-4bb4-8e4e-4244dd76aee7",
   "metadata": {},
   "source": [
    "p値:0.7673 : 帰無仮説を棄却できない場合 >> 標本の分散は同じである。\n",
    "\n",
    "$H_{0} : μ_{1}=μ_{2}=μ_{3}$ : または、標本の平均が同じである。\n",
    "\n",
    "$H_{1}$ : 少なくともどちらかが異なる。\n",
    "\n",
    "\n",
    "## 3.適切なテストの選択\n",
    "\n",
    "仮定が満たされているため、2つ以上のグループと対になっていないデータに対してパラメトリックバージョンのテストを実行できます"
   ]
  },
  {
   "cell_type": "code",
   "execution_count": 14,
   "id": "707c1164-9c5a-4179-b8fc-c37a2e6ebd48",
   "metadata": {},
   "outputs": [
    {
     "name": "stdout",
     "output_type": "stream",
     "text": [
      "p value:0.000000\n",
      "Reject null hypothesis\n"
     ]
    }
   ],
   "source": [
    "F, p_value = stats.f_oneway(only_breast,only_formula,both)\n",
    "print(\"p value:%.6f\" % p_value)\n",
    "if p_value <0.05:\n",
    "    print(\"Reject null hypothesis\")\n",
    "else:\n",
    "    print(\"Fail to reject null hypothesis\")"
   ]
  },
  {
   "cell_type": "markdown",
   "id": "b944ca5f-8a06-4f08-85c6-f36aa6ae0578",
   "metadata": {},
   "source": [
    "帰無仮説を棄却する\n",
    "\n",
    "この有意水準では、少なくともどちらかのグループの月平均体重増加率が異なっていると結論づけることができる。"
   ]
  },
  {
   "cell_type": "markdown",
   "id": "cb4784a4-3108-4753-85df-66f0f40d3998",
   "metadata": {},
   "source": [
    "## 4.決定と結論\n",
    "この有意水準では、少なくとも1つのグループの平均月間体重増加が異なると結論付けることができます。\n",
    "\n",
    "どのグループが違いを引き起こしているのかを見つけるには、以下のように事後テスト/ペアワイズ比較を実行する必要があります。\n",
    "\n",
    "注：[家族ごとのp値のインフレを回避するために、ボンフェローニ補正を使用しました。ここから他の選択肢を見ることができます](https://scikit-posthocs.readthedocs.io/en/latest/generated/scikit_posthocs.posthoc_ttest/)"
   ]
  },
  {
   "cell_type": "code",
   "execution_count": 17,
   "id": "f6472b3c-9715-44d2-93c8-710af7d021ec",
   "metadata": {},
   "outputs": [
    {
     "data": {
      "text/html": [
       "<style type=\"text/css\">\n",
       "#T_85fef_row0_col0, #T_85fef_row0_col2, #T_85fef_row1_col1, #T_85fef_row2_col0, #T_85fef_row2_col2 {\n",
       "  background-color: black;\n",
       "}\n",
       "#T_85fef_row0_col1, #T_85fef_row1_col0, #T_85fef_row1_col2, #T_85fef_row2_col1 {\n",
       "  background-color: violet;\n",
       "}\n",
       "</style>\n",
       "<table id=\"T_85fef\">\n",
       "  <thead>\n",
       "    <tr>\n",
       "      <th class=\"blank level0\" >&nbsp;</th>\n",
       "      <th id=\"T_85fef_level0_col0\" class=\"col_heading level0 col0\" >only breast</th>\n",
       "      <th id=\"T_85fef_level0_col1\" class=\"col_heading level0 col1\" >only formula</th>\n",
       "      <th id=\"T_85fef_level0_col2\" class=\"col_heading level0 col2\" >both</th>\n",
       "    </tr>\n",
       "  </thead>\n",
       "  <tbody>\n",
       "    <tr>\n",
       "      <th id=\"T_85fef_level0_row0\" class=\"row_heading level0 row0\" >only breast</th>\n",
       "      <td id=\"T_85fef_row0_col0\" class=\"data row0 col0\" >1.000000</td>\n",
       "      <td id=\"T_85fef_row0_col1\" class=\"data row0 col1\" >0.000000</td>\n",
       "      <td id=\"T_85fef_row0_col2\" class=\"data row0 col2\" >0.129454</td>\n",
       "    </tr>\n",
       "    <tr>\n",
       "      <th id=\"T_85fef_level0_row1\" class=\"row_heading level0 row1\" >only formula</th>\n",
       "      <td id=\"T_85fef_row1_col0\" class=\"data row1 col0\" >0.000000</td>\n",
       "      <td id=\"T_85fef_row1_col1\" class=\"data row1 col1\" >1.000000</td>\n",
       "      <td id=\"T_85fef_row1_col2\" class=\"data row1 col2\" >0.000004</td>\n",
       "    </tr>\n",
       "    <tr>\n",
       "      <th id=\"T_85fef_level0_row2\" class=\"row_heading level0 row2\" >both</th>\n",
       "      <td id=\"T_85fef_row2_col0\" class=\"data row2 col0\" >0.129454</td>\n",
       "      <td id=\"T_85fef_row2_col1\" class=\"data row2 col1\" >0.000004</td>\n",
       "      <td id=\"T_85fef_row2_col2\" class=\"data row2 col2\" >1.000000</td>\n",
       "    </tr>\n",
       "  </tbody>\n",
       "</table>\n"
      ],
      "text/plain": [
       "<pandas.io.formats.style.Styler at 0x18ffb42dac0>"
      ]
     },
     "execution_count": 17,
     "metadata": {},
     "output_type": "execute_result"
    }
   ],
   "source": [
    "import scikit_posthocs as sp\n",
    "\n",
    "posthoc_df= sp.posthoc_ttest([only_breast,only_formula,both], equal_var=True, p_adjust=\"bonferroni\")\n",
    "\n",
    "group_names= [\"only breast\", \"only formula\",\"both\"]\n",
    "posthoc_df.columns= group_names\n",
    "posthoc_df.index= group_names\n",
    "posthoc_df.style.applymap(lambda x: \"background-color:violet\" if x<0.05 else \"background-color: black\")"
   ]
  },
  {
   "cell_type": "markdown",
   "id": "f4c5c0fc-1cf2-4926-95c3-c7b5c94497fd",
   "metadata": {},
   "source": [
    "**この有意水準では、次のように結論付けることができます。**\n",
    "\n",
    "・\"母乳だけ \"は \"粉ミルクだけ \"とは異なる\n",
    "・\"粉ミルクのみ \"は \"母乳のみ \"と \"両方 \"の両方と異なる\n",
    "・\"両方 \"は \"粉ミルクのみ \"よりも異なる"
   ]
  },
  {
   "cell_type": "code",
   "execution_count": 18,
   "id": "1c759ec3-ecf9-4d98-a1f7-38e7cd44df76",
   "metadata": {},
   "outputs": [
    {
     "data": {
      "text/html": [
       "<div>\n",
       "<style scoped>\n",
       "    .dataframe tbody tr th:only-of-type {\n",
       "        vertical-align: middle;\n",
       "    }\n",
       "\n",
       "    .dataframe tbody tr th {\n",
       "        vertical-align: top;\n",
       "    }\n",
       "\n",
       "    .dataframe thead th {\n",
       "        text-align: right;\n",
       "    }\n",
       "</style>\n",
       "<table border=\"1\" class=\"dataframe\">\n",
       "  <thead>\n",
       "    <tr style=\"text-align: right;\">\n",
       "      <th></th>\n",
       "      <th>1</th>\n",
       "      <th>2</th>\n",
       "      <th>3</th>\n",
       "    </tr>\n",
       "  </thead>\n",
       "  <tbody>\n",
       "    <tr>\n",
       "      <th>1</th>\n",
       "      <td>1.0000</td>\n",
       "      <td>0.0000</td>\n",
       "      <td>0.0432</td>\n",
       "    </tr>\n",
       "    <tr>\n",
       "      <th>2</th>\n",
       "      <td>0.0000</td>\n",
       "      <td>1.0000</td>\n",
       "      <td>0.0000</td>\n",
       "    </tr>\n",
       "    <tr>\n",
       "      <th>3</th>\n",
       "      <td>0.0432</td>\n",
       "      <td>0.0000</td>\n",
       "      <td>1.0000</td>\n",
       "    </tr>\n",
       "  </tbody>\n",
       "</table>\n",
       "</div>"
      ],
      "text/plain": [
       "       1      2      3\n",
       "1 1.0000 0.0000 0.0432\n",
       "2 0.0000 1.0000 0.0000\n",
       "3 0.0432 0.0000 1.0000"
      ]
     },
     "execution_count": 18,
     "metadata": {},
     "output_type": "execute_result"
    }
   ],
   "source": [
    "sp.posthoc_ttest([only_breast,only_formula,both], equal_var=True)"
   ]
  },
  {
   "cell_type": "markdown",
   "id": "86a57dd8-133b-402d-ba09-7496e7714cc6",
   "metadata": {},
   "source": [
    "# Q3. マンホイットニーU\n",
    "\n",
    "テクノロジー企業で働く人材スペシャリストは、さまざまなチームの過労時間に関心があります。ソフトウェア開発チームとテストチームの残業に違いがあるかどうかを調査するために、彼女は2つのチームのそれぞれで17人の従業員をランダムに選択し、1時間単位で週平均の残業時間を記録しました。データは以下の通りです。\n",
    "\n",
    "test_team = [ 6.2、7.1、1.5、2,3、2、1.5、6.1、2.4、2.3、12.4、1.8、5.3、3.1、9.4、2.3、4.1]\n",
    "\n",
    "developer_team = [2.3、2.1、1.4、2.0、8.7 、 2.2、3.1、4.2、3.6、2.5、3.1、6.2、12.1、3.9、2.2、1.2、3.4]\n",
    "\n",
    "**この情報に従って、0.05の有意水準を使用して、2つのチームの過労時間に差があるかどうかを確認するための仮説検定を実行します。仮説検定を行う前に、関連する仮定を確認してください。**\n",
    "\n",
    "## 1.仮説の定義\n",
    "\n",
    "H₀： μ₁≤μ₂\n",
    "\n",
    "H₁ ：μ₁ >μ₂\n",
    "\n",
    "## 2.仮定チェック"
   ]
  },
  {
   "cell_type": "code",
   "execution_count": 20,
   "id": "fde26e43-27f5-4bbf-9c76-ae350e5de3c0",
   "metadata": {},
   "outputs": [],
   "source": [
    "test_team=np.array([6.2,  7.1,  1.5,  2,3 ,  2,  1.5,  6.1,  2.4,  2.3, 12.4,  1.8,  5.3,  3.1, 9.4,  2.3, 4.1])\n",
    "developer_team=np.array([2.3,  2.1,  1.4,  2.0, 8.7,  2.2,  3.1,  4.2,  3.6, 2.5,  3.1,  6.2, 12.1,  3.9,  2.2, 1.2 ,3.4])"
   ]
  },
  {
   "cell_type": "markdown",
   "id": "e1aef781-909b-4d82-b0e2-320ff5f52a5a",
   "metadata": {},
   "source": [
    "H₀：データは正規分布しています。\n",
    "\n",
    "H₁：データは正規分布していません。"
   ]
  },
  {
   "cell_type": "code",
   "execution_count": 21,
   "id": "060f328a-0594-40f2-882f-68e8a4c1481a",
   "metadata": {},
   "outputs": [
    {
     "name": "stdout",
     "output_type": "stream",
     "text": [
      "p value:0.0046\n",
      "Reject null hypothesis >> The data is not normally distributed\n",
      "p value:0.0005\n",
      "Reject null hypothesis >> The data is not normally distributed\n"
     ]
    }
   ],
   "source": [
    "check_normality(test_team)\n",
    "check_normality(developer_team)"
   ]
  },
  {
   "cell_type": "markdown",
   "id": "70b3097b-1941-485d-b609-c36ef868777c",
   "metadata": {},
   "source": [
    "p値:0.0046 : 帰無仮説を棄却する >> データは正規分布していない\n",
    "\n",
    "p値:0.0005 : 帰無仮説を棄却する >> データは正規分布していない\n",
    "\n",
    "H₀：サンプルの分散は同じです。\n",
    "\n",
    "H₁：サンプルの分散が異なります。\n",
    "\n",
    "# 3.適切なテストの選択\n",
    "\n",
    "2つのグループがあり、データは異なる個人から収集されるため、ペアにはなりません。\n",
    "ただし、正規性の仮定は満たされていません。\n",
    "\n",
    "したがって、対になっていないデータには、ノンパラメトリックバージョンの2グループ比較を使用する必要があります。マンホイットニーU検定です。"
   ]
  },
  {
   "cell_type": "code",
   "execution_count": 22,
   "id": "e1656b5f-3246-4fe3-99f3-afd622acbc90",
   "metadata": {},
   "outputs": [
    {
     "name": "stdout",
     "output_type": "stream",
     "text": [
      "p value:0.5410\n",
      "Fail to reject null hypothesis >> The variances of the samples are same.\n"
     ]
    }
   ],
   "source": [
    "check_variance_homogeneity(test_team, developer_team)"
   ]
  },
  {
   "cell_type": "markdown",
   "id": "884196b9-1ccd-46d0-bf69-1e95a39ada89",
   "metadata": {},
   "source": [
    "p値:0.5410 : 帰無仮説を棄却できない→サンプルの分散は同じである。\n",
    "\n",
    "$H_{0} : μ_{1}=μ_{2} or μ_{1}-μ_{2}=0 or$  標本の平均が同じである。\n",
    "\n",
    "$H_{0} : μ_{1}≠μ_{2} or μ_{1}-μ_{2}≠0 or$  標本の平均が異なる。"
   ]
  },
  {
   "cell_type": "code",
   "execution_count": 23,
   "id": "77289381-98cf-4786-b1d7-39c64bd39f28",
   "metadata": {},
   "outputs": [
    {
     "name": "stdout",
     "output_type": "stream",
     "text": [
      "p-value:0.8226\n",
      "Fail to recejt null hypothesis\n"
     ]
    }
   ],
   "source": [
    "ttest,pvalue = stats.mannwhitneyu(test_team,developer_team, alternative=\"two-sided\")\n",
    "print(\"p-value:%.4f\" % pvalue)\n",
    "if pvalue <0.05:\n",
    "    print(\"Reject null hypothesis\")\n",
    "else:\n",
    "    print(\"Fail to recejt null hypothesis\")"
   ]
  },
  {
   "cell_type": "markdown",
   "id": "1c002284-2263-48e2-b015-085a2f6f490d",
   "metadata": {},
   "source": [
    "p値:0.8226 : 帰無仮説の不成立\n",
    "\n",
    "**この有意水準では、両チームの平均過労時間には統計的に有意な差はないと言える。**"
   ]
  },
  {
   "cell_type": "markdown",
   "id": "8ff52324-0fe1-487b-aa8a-b112ad511a33",
   "metadata": {},
   "source": [
    "# Q4. クラスカル・ウォリス"
   ]
  },
  {
   "cell_type": "markdown",
   "id": "f9acbd3f-40cf-4cb1-9a71-8c9dfd154ee1",
   "metadata": {},
   "source": [
    "eコマース企業は、キャンペーンのためにYouTube、Instagram、Facebookで定期的に宣伝しています。\n",
    "\n",
    "しかし、新しいマネージャーは、これらのプラットフォームに惹かれる顧客の数に違いがあるかどうかについて興味を持っていました。\n",
    "\n",
    "そのため、彼女は、ユーザーがどこから来たのかを知ることができるアプリケーションであるAdjustを使い始めました。\n",
    "\n",
    "各プラットフォームのAdjustから報告される1日あたりの数値は次のとおりです。\n",
    "\n",
    "Youtube = [1913、1879、1939、2146、2040、2127、2122、2156、2036、1974、1956、2146、2151、1943、2125]\n",
    "\n",
    "Instagram = [2305.、2355.、2203.、2231.、2185.、2420.、2386.、2410.、2340.、2349.、2241.、2396.、2244.、2267.、2281。]\n",
    "\n",
    "Facebook = [2133.、2522.、2124.、2551.、2293.、2367.、2460.、2311.、2178.、2113.、2048.、2443.、2265.、2095.、2528。]\n",
    "\n",
    "**この情報に従って、仮説検定を実行して、0.05の有意水準を使用してこれら3つのプラットフォームの平均的な顧客獲得に違いがあるかどうかを確認します。**\n",
    "\n",
    "**大きな違いがある場合は、さらに分析を実行して、違いの原因を見つけます。仮説検定を行う前に、関連する仮定を確認してください。**"
   ]
  },
  {
   "cell_type": "markdown",
   "id": "17dadef9-1149-45be-bad9-cd35cf3d04e3",
   "metadata": {},
   "source": [
    "## 1.仮説の定義\n",
    "\n",
    "H3 ： μ3=μ²=μ3またはサンプルの平均は同じです。\n",
    "\n",
    "H₁：少なくとも1つは異なります。"
   ]
  },
  {
   "cell_type": "code",
   "execution_count": 24,
   "id": "ebbfd820-5998-4991-bf98-ad22a77ee509",
   "metadata": {},
   "outputs": [],
   "source": [
    "youtube=np.array([1913, 1879, 1939, 2146, 2040, 2127, 2122, 2156, 2036, 1974, 1956,\n",
    "       2146, 2151, 1943, 2125])\n",
    "       \n",
    "instagram =  np.array([2305., 2355., 2203., 2231., 2185., 2420., 2386., 2410., 2340.,\n",
    "       2349., 2241., 2396., 2244., 2267., 2281.])\n",
    "       \n",
    "facebook = np.array([2133., 2522., 2124., 2551., 2293., 2367., 2460., 2311., 2178.,\n",
    "       2113., 2048., 2443., 2265., 2095., 2528.]) "
   ]
  },
  {
   "cell_type": "markdown",
   "id": "0b52797c-22d5-442b-b57a-40f0fd2b9280",
   "metadata": {},
   "source": [
    "H₀：データは正規分布しています。\n",
    "\n",
    "H₁：データは正規分布していません。"
   ]
  },
  {
   "cell_type": "code",
   "execution_count": 25,
   "id": "95adc857-28c5-4f40-ae32-237a3f6fdf47",
   "metadata": {},
   "outputs": [
    {
     "name": "stdout",
     "output_type": "stream",
     "text": [
      "p value:0.0285\n",
      "Reject null hypothesis >> The data is not normally distributed\n",
      "p value:0.4156\n",
      "Fail to reject null hypothesis >> The data is normally distributed\n",
      "p value:0.1716\n",
      "Fail to reject null hypothesis >> The data is normally distributed\n"
     ]
    }
   ],
   "source": [
    "check_normality(youtube)\n",
    "check_normality(instagram)\n",
    "check_normality(facebook)"
   ]
  },
  {
   "cell_type": "markdown",
   "id": "0c700400-f2be-4d43-b679-b86d9be2afeb",
   "metadata": {},
   "source": [
    "p値:0.0285 : 帰無仮説を棄却する >> データは正規分布していない\n",
    "\n",
    "p値:0.4156 : 帰無仮説を棄却できない場合 >> データは正規に分布している\n",
    "\n",
    "p値:0.1716 : 帰無仮説の棄却に失敗 >> データは正規に分布している\n",
    "\n",
    "\n",
    "H₀：サンプルの分散は同じです。\n",
    "\n",
    "H₁：サンプルの分散が異なります。"
   ]
  },
  {
   "cell_type": "markdown",
   "id": "40779412-9b01-4d9f-9d8f-d5ebcd91dccb",
   "metadata": {},
   "source": [
    "# 3.適切なテストの選択\n",
    "正規性と分散の均一性の仮定が満たされていないため、\n",
    "\n",
    "対になっていないデータにはノンパラメトリックバージョンのANOVAを使用する必要があります（データはさまざまなソースから収集されます）。"
   ]
  },
  {
   "cell_type": "code",
   "execution_count": 26,
   "id": "a367a8c7-9da9-4951-9953-3bf60d0edaa6",
   "metadata": {},
   "outputs": [
    {
     "name": "stdout",
     "output_type": "stream",
     "text": [
      "p value:0.0012\n",
      "Reject null hypothesis >> The variances of the samples are different.\n"
     ]
    }
   ],
   "source": [
    "stat, pvalue_levene= stats.levene(youtube, instagram, facebook)\n",
    "\n",
    "print(\"p value:%.4f\" % pvalue_levene)\n",
    "if pvalue_levene <0.05:\n",
    "    print(\"Reject null hypothesis >> The variances of the samples are different.\")\n",
    "else:\n",
    "    print(\"Fail to reject null hypothesis >> The variances of the samples are same.\")"
   ]
  },
  {
   "cell_type": "markdown",
   "id": "c115c7ac-0428-4792-9d67-1edd91442ded",
   "metadata": {},
   "source": [
    "p値:0.0012 : 帰無仮説を棄却する >> 標本の分散は異なっている。\n",
    "\n",
    "$H_{0}: μ_{1} = μ_{2} = μ_{3}$または、標本の平均が同じである。\n",
    "\n",
    "$H_{1} : $ 少なくともどちらかが異なる。"
   ]
  },
  {
   "cell_type": "code",
   "execution_count": 27,
   "id": "4bbe559d-3b8a-42b0-b0ab-f33771762b8e",
   "metadata": {},
   "outputs": [
    {
     "name": "stdout",
     "output_type": "stream",
     "text": [
      "p value:0.000015\n",
      "Reject null hypothesis\n"
     ]
    }
   ],
   "source": [
    "F, p_value = stats.kruskal(youtube, instagram, facebook)\n",
    "print(\"p value:%.6f\" % p_value)\n",
    "if p_value <0.05:\n",
    "    print(\"Reject null hypothesis\")\n",
    "else:\n",
    "    print(\"Fail to reject null hypothesis\")"
   ]
  },
  {
   "cell_type": "markdown",
   "id": "c2fa46ef-c61e-4550-88f1-49b7d8c944e1",
   "metadata": {},
   "source": [
    "p値:0.000015 : 帰無仮説を棄却する\n",
    "\n",
    "この有意水準では、平均顧客獲得数のうち少なくとも1つが異なっている。\n",
    "\n",
    "注：データは正規分布ではないので、ノンパラメトリック版ポストホックテストを使用します。"
   ]
  },
  {
   "cell_type": "code",
   "execution_count": 29,
   "id": "4ffd7a65-f2a3-426f-ba10-a7301c5e7e6d",
   "metadata": {},
   "outputs": [
    {
     "data": {
      "text/html": [
       "<style type=\"text/css\">\n",
       "#T_0de02_row0_col0, #T_0de02_row1_col1, #T_0de02_row1_col2, #T_0de02_row2_col1, #T_0de02_row2_col2 {\n",
       "  background-color: black;\n",
       "}\n",
       "#T_0de02_row0_col1, #T_0de02_row0_col2, #T_0de02_row1_col0, #T_0de02_row2_col0 {\n",
       "  background-color: violet;\n",
       "}\n",
       "</style>\n",
       "<table id=\"T_0de02\">\n",
       "  <thead>\n",
       "    <tr>\n",
       "      <th class=\"blank level0\" >&nbsp;</th>\n",
       "      <th id=\"T_0de02_level0_col0\" class=\"col_heading level0 col0\" >youtube</th>\n",
       "      <th id=\"T_0de02_level0_col1\" class=\"col_heading level0 col1\" >instagram</th>\n",
       "      <th id=\"T_0de02_level0_col2\" class=\"col_heading level0 col2\" >facebook</th>\n",
       "    </tr>\n",
       "  </thead>\n",
       "  <tbody>\n",
       "    <tr>\n",
       "      <th id=\"T_0de02_level0_row0\" class=\"row_heading level0 row0\" >youtube</th>\n",
       "      <td id=\"T_0de02_row0_col0\" class=\"data row0 col0\" >1.000000</td>\n",
       "      <td id=\"T_0de02_row0_col1\" class=\"data row0 col1\" >0.000010</td>\n",
       "      <td id=\"T_0de02_row0_col2\" class=\"data row0 col2\" >0.002337</td>\n",
       "    </tr>\n",
       "    <tr>\n",
       "      <th id=\"T_0de02_level0_row1\" class=\"row_heading level0 row1\" >instagram</th>\n",
       "      <td id=\"T_0de02_row1_col0\" class=\"data row1 col0\" >0.000010</td>\n",
       "      <td id=\"T_0de02_row1_col1\" class=\"data row1 col1\" >1.000000</td>\n",
       "      <td id=\"T_0de02_row1_col2\" class=\"data row1 col2\" >1.000000</td>\n",
       "    </tr>\n",
       "    <tr>\n",
       "      <th id=\"T_0de02_level0_row2\" class=\"row_heading level0 row2\" >facebook</th>\n",
       "      <td id=\"T_0de02_row2_col0\" class=\"data row2 col0\" >0.002337</td>\n",
       "      <td id=\"T_0de02_row2_col1\" class=\"data row2 col1\" >1.000000</td>\n",
       "      <td id=\"T_0de02_row2_col2\" class=\"data row2 col2\" >1.000000</td>\n",
       "    </tr>\n",
       "  </tbody>\n",
       "</table>\n"
      ],
      "text/plain": [
       "<pandas.io.formats.style.Styler at 0x18ffa2fba90>"
      ]
     },
     "execution_count": 29,
     "metadata": {},
     "output_type": "execute_result"
    }
   ],
   "source": [
    "posthoc_df = sp.posthoc_mannwhitney([youtube,instagram, facebook], p_adjust = 'bonferroni')\n",
    "group_names= [\"youtube\", \"instagram\",\"facebook\"]\n",
    "posthoc_df.columns= group_names\n",
    "posthoc_df.index= group_names\n",
    "posthoc_df.style.applymap(lambda x: \"background-color:violet\" if x<0.05 else \"background-color: black\")"
   ]
  },
  {
   "cell_type": "markdown",
   "id": "659c271a-d6ee-4712-b43c-d343f5e6e0d0",
   "metadata": {},
   "source": [
    "YouTubeからの平均顧客数は、他の顧客とは異なります（実際には他の顧客よりも少ないです）。"
   ]
  },
  {
   "cell_type": "markdown",
   "id": "57e7cc2a-4463-434e-ac4b-341256c62e3d",
   "metadata": {},
   "source": [
    "# Q5. t検定に依存"
   ]
  },
  {
   "cell_type": "markdown",
   "id": "ea04f7f1-68d3-43d5-85e9-11557f030a1e",
   "metadata": {},
   "source": [
    "大学保健センターは、前学期に高コレステロールの18人の学生を診断しました。医療関係者はこれらの患者に高コレステロールの危険性について話し、食事療法プログラムを処方しました。1か月後、患者はコントロールのために来て、彼らのコレステロール値が再検査されました。患者のコレステロール値に違いがあるかどうかをテストします。\n",
    "\n",
    "この情報に従って、0.05の有意水準を使用して、食事療法後の患者のコレステロール値が低下しているかどうかを確認するための仮説検定を実行します。仮説検定を行う前に、関連する仮定を確認してください。結果にコメントする\n",
    "\n",
    "test_results_before_diet = [224、235、223、253、253、224、244、225、259、220、242、240、239、229、276、254、237、227]\n",
    "\n",
    "test_results_after_diet = [198、195、213、190、 246、206、225、199、214、210、188、205、200、220、190、199、191、218]\n",
    "\n",
    "## 1.仮説の定義\n",
    "\n",
    "H₀： μd>=0または真の平均差がゼロ以上。\n",
    "\n",
    "H3： μd<0または真の平均差がゼロよりも小さい。\n",
    "\n",
    "## 2.仮定チェック\n",
    "\n",
    "•従属変数は連続でなければなりません（間隔/比率）\n",
    "\n",
    "•観測値は互いに独立しています。\n",
    "\n",
    "•従属変数は、ほぼ正規分布している必要があります。"
   ]
  },
  {
   "cell_type": "code",
   "execution_count": 30,
   "id": "5caa042a-5bb5-4134-b2fa-e74486d8dced",
   "metadata": {},
   "outputs": [],
   "source": [
    "test_results_before_diet=np.array([224, 235, 223, 253, 253, 224, 244, 225, 259, 220, 242, 240, 239, 229, 276, 254, 237, 227])\n",
    "test_results_after_diet=np.array([198, 195, 213, 190, 246, 206, 225, 199, 214, 210, 188, 205, 200, 220, 190, 199, 191, 218])"
   ]
  },
  {
   "cell_type": "markdown",
   "id": "964a5978-d9b3-4779-a362-ca08ba97a2a7",
   "metadata": {},
   "source": [
    "$H_{0}$ : データは正規分布である。\n",
    "\n",
    "$H_{1}$ : データは正規分布していない。"
   ]
  },
  {
   "cell_type": "code",
   "execution_count": 31,
   "id": "07bbb7a7-987c-4520-94e6-66964033edc4",
   "metadata": {},
   "outputs": [
    {
     "name": "stdout",
     "output_type": "stream",
     "text": [
      "p value:0.1635\n",
      "Fail to reject null hypothesis >> The data is normally distributed\n",
      "p value:0.1003\n",
      "Fail to reject null hypothesis >> The data is normally distributed\n"
     ]
    }
   ],
   "source": [
    "check_normality(test_results_before_diet)\n",
    "check_normality(test_results_after_diet)"
   ]
  },
  {
   "cell_type": "markdown",
   "id": "ff8a23f5-bb70-466d-9926-4b1dcaeb0606",
   "metadata": {},
   "source": [
    "p値:0.1635 : 帰無仮説を棄却できない場合→データは正規分布である\n",
    "\n",
    "p値:0.1003 : 帰無仮説を棄却できない場合 >> データは正規に分布している\n",
    "\n",
    "$H_{0}: μ_{d} >=0 or$ : 真の平均の差はゼロと等しいか、それより大きい。\n",
    "\n",
    "$H_{1}: μ_{d} <0 or$ : 真の平均の差はゼロより小さい。\n",
    "\n",
    "# 3.適切なテストの選択\n",
    "\n",
    "データは同じ個人から収集され、仮定が満たされているため、データはペアになり、従属 t検定 を使用できます。"
   ]
  },
  {
   "cell_type": "code",
   "execution_count": 32,
   "id": "86f2891f-ed45-422d-88d9-ddb4944a7ab6",
   "metadata": {},
   "outputs": [
    {
     "name": "stdout",
     "output_type": "stream",
     "text": [
      "p value:0.000008 one tailed p value:0.000004\n",
      "Reject null hypothesis\n"
     ]
    }
   ],
   "source": [
    "test_stat, p_value_paired = stats.ttest_rel(test_results_before_diet,test_results_after_diet)\n",
    "print(\"p value:%.6f\" % p_value_paired , \"one tailed p value:%.6f\" %(p_value_paired/2))\n",
    "if p_value_paired <0.05:\n",
    "    print(\"Reject null hypothesis\")\n",
    "else:\n",
    "    print(\"Fail to reject null hypothesis\")"
   ]
  },
  {
   "cell_type": "markdown",
   "id": "966e0d19-d412-4ae2-b008-a2ea12322339",
   "metadata": {},
   "source": [
    "帰無仮説を棄却する\n",
    "\n",
    "この有意水準では、食事療法後に患者の平均コレステロール値が減少したと結論づけるのに十分な証拠がある。"
   ]
  },
  {
   "cell_type": "markdown",
   "id": "7a563f3d-9f3b-4f25-880d-10949b0e6219",
   "metadata": {},
   "source": [
    "# Q6. ウィルコクソンの符号付き順位検定\n",
    "\n",
    "ベンチャーキャピタリストは、品質を損なうことなくデータ圧縮を提供するスタートアップに投資したいと考えていましたが、競合他社はPiedPiperとEndFrameの2つです。当初、彼女はEndFrameのパフォーマンスが向上する可能性があると信じていましたが、それでも投資前にテストしたいと考えていました。次に、彼女は各企業に同じファイルを渡して、パフォーマンススコアを圧縮して記録しました。データは以下の通りです。\n",
    "\n",
    "piedpiper = [4.57、4.55、5.47、4.67、5.41、5.55、5.53、5.63、3.86、3.97、5.44、3.93、5.31、5.17、4.39、4.28、5.25]\n",
    "\n",
    "エンドフレーム= [4.27、3.93、4.01、4.07、3.87、 4.、4。、3.72、4.16、4.1、3.9、3.97、4.08、3.96、3.96、3.77、4.09]\n",
    "\n",
    "この情報に従って、0.05の有意水準を使用して関連する仮説検定を実行します。仮説検定を行う前に、関連する仮定を確認してください。結果についてコメントします。\n",
    "\n",
    "## 1.仮説の定義\n",
    "パフォーマンススコアは同じファイルから取得されるため、データはペアになります。\n",
    "\n",
    "H₀： μd>=0または真の平均差がゼロ以上。\n",
    "\n",
    "H3： μd<0または真の平均差がゼロよりも小さい。\n",
    "\n",
    "## 2.仮定チェック\n",
    "\n",
    "•従属変数は連続でなければなりません（間隔/比率）\n",
    "\n",
    "•観測値は互いに独立しています。\n",
    "\n",
    "•従属変数は、ほぼ正規分布している必要があります。\n",
    "\n",
    "H₀：データは正規分布しています。\n",
    "\n",
    "H₁：データは正規分布していません。\n",
    "\n",
    "α=0.05とする p値が0.05以上であれば、データは正規分布であると言える。"
   ]
  },
  {
   "cell_type": "code",
   "execution_count": 33,
   "id": "462683aa-7a21-4bab-a5a5-d3ce408afe2a",
   "metadata": {},
   "outputs": [
    {
     "name": "stdout",
     "output_type": "stream",
     "text": [
      "p value:0.0304\n",
      "Reject null hypothesis >> The data is not normally distributed\n",
      "p value:0.9587\n",
      "Fail to reject null hypothesis >> The data is normally distributed\n"
     ]
    }
   ],
   "source": [
    "piedpiper=np.array([4.57, 4.55, 5.47, 4.67, 5.41, 5.55, 5.53, 5.63, 3.86, 3.97, 5.44, 3.93, 5.31, 5.17, 4.39, 4.28, 5.25])\n",
    "endframe = np.array([4.27, 3.93, 4.01, 4.07, 3.87, 4.  , 4.  , 3.72, 4.16, 4.1 , 3.9 , 3.97, 4.08, 3.96, 3.96, 3.77, 4.09])\n",
    "check_normality(piedpiper)\n",
    "check_normality(endframe)"
   ]
  },
  {
   "cell_type": "markdown",
   "id": "721de80c-90dd-41e6-bec8-706b353de8f4",
   "metadata": {},
   "source": [
    "## 3.適切なテストの選択\n",
    "正規性の仮定は満たされていません。したがって、ペア検定のノンパラメトリックバージョン、\n",
    "つまりウィルコクソン符号順位検定を使用する必要があります。\n",
    "\n",
    "\n",
    "\n",
    "H₀： μd>=0または真の平均差がゼロ以上。\n",
    "\n",
    "H1： μd<0または真の平均差がゼロよりも小さい。"
   ]
  },
  {
   "cell_type": "code",
   "execution_count": 35,
   "id": "571ff00c-8a4c-4739-85e9-c3d0e5203330",
   "metadata": {},
   "outputs": [
    {
     "name": "stdout",
     "output_type": "stream",
     "text": [
      "p-value:0.000214 >> one_tailed_pval:0.000107\n",
      "one sided pvalue:0.000107\n",
      "Reject null hypothesis\n"
     ]
    }
   ],
   "source": [
    "test,pvalue = stats.wilcoxon(endframe,piedpiper) ##alternative default two sided\n",
    "print(\"p-value:%.6f\" %pvalue, \">> one_tailed_pval:%.6f\" %(pvalue/2))\n",
    "\n",
    "test,one_sided_pvalue = stats.wilcoxon(endframe,piedpiper, alternative=\"less\")\n",
    "print(\"one sided pvalue:%.6f\" %(one_sided_pvalue))\n",
    "if pvalue <0.05:\n",
    "    print(\"Reject null hypothesis\")\n",
    "else:\n",
    "    print(\"Fail to recejt null hypothesis\")"
   ]
  },
  {
   "cell_type": "markdown",
   "id": "1009078a-ff6c-469a-8387-47a2e08993ce",
   "metadata": {},
   "source": [
    "p値:0.000214 >> 片側p値:0.000107\n",
    "\n",
    "片側p値:0.000107\n",
    "\n",
    "帰無仮説を棄却する\n",
    "\n",
    "\n",
    "$H_{0}$棄却 >> この有意水準では、PiedPaperの性能がEndFrameより優れていると結論づけるのに十分な証拠がある。"
   ]
  },
  {
   "cell_type": "markdown",
   "id": "20690c67-1e9b-4139-880b-06d2e54adb16",
   "metadata": {},
   "source": [
    "# Q7. フリードマンカイ二乗\n",
    "\n",
    "研究者は、自分が開発した方法論Cと、パフォーマンスの点でベースライン方法AおよびBの間に違いがあるかどうかについて興味を持っていました。そのため、彼女はさまざまな実験を設計し、それぞれの方法で達成された精度を記録することにしました。次の表は、各方法でテストセットで達成された精度を示しています。それぞれの方法で同じトレインとテストセットが使用されたことに注意してください。\n",
    "\n",
    "**この情報に従って、0.05の有意水準を使用して、方法のパフォーマンスに違いがあるかどうかを確認するために仮説検定を実行します。有意差がある場合は、さらに分析を実行して、どちらが違いを引き起こしたかを見つけます。仮説検定を行う前に、関連する仮定を確認してください。結果についてコメントします。**\n",
    "\n",
    "\n",
    "##1.仮説の定義\n",
    "H3 ： μ3=μ²=μ3またはサンプルの平均は同じです。\n",
    "\n",
    "H₁：少なくとも1つは異なります。\n",
    "\n",
    "### 前提条件\n",
    "各標本の観測値は独立同分布(iid)である。\n",
    "\n",
    "各標本のオブザベーションは，正規分布である．\n",
    "\n",
    "各標本のオブザベーションは，同じ分散を持つ．\n",
    "\n",
    "## 2.仮定チェック"
   ]
  },
  {
   "cell_type": "code",
   "execution_count": 36,
   "id": "5f690d20-251d-4979-969e-2c6f3262b391",
   "metadata": {},
   "outputs": [
    {
     "name": "stdout",
     "output_type": "stream",
     "text": [
      "p value:0.3076\n",
      "Fail to reject null hypothesis >> The data is normally distributed\n",
      "p value:0.0515\n",
      "Fail to reject null hypothesis >> The data is normally distributed\n",
      "p value:0.0016\n",
      "Reject null hypothesis >> The data is not normally distributed\n"
     ]
    }
   ],
   "source": [
    "method_A = np.array([89.8, 89.9, 88.6, 88.7, 89.6, 89.7, 89.2, 89.3])\n",
    "method_B =   np.array([90.0, 90.1, 88.8, 88.9, 89.9, 90.0, 89.0, 89.2])\n",
    "method_C = np.array([91.5, 90.7, 90.3, 90.4, 90.2, 90.3, 90.2, 90.3])\n",
    "\n",
    "check_normality(method_A)\n",
    "check_normality(method_B)\n",
    "check_normality(method_C)"
   ]
  },
  {
   "cell_type": "markdown",
   "id": "bd455c82-1324-47b2-ada8-ab7a5f9bb881",
   "metadata": {},
   "source": [
    "p値:0.3076 : 帰無仮説を棄却できない場合 >> データは正規分布である\n",
    "\n",
    "p値:0.0515 : 帰無仮説を棄却できない場合 >> データは正規分布である\n",
    "\n",
    "p値:0.0016 : 帰無仮説を棄却する >> データは正規分布ではない\n",
    "\n",
    "H₀：データは正規分布しています。\n",
    "\n",
    "H₁：データは正規分布していません。"
   ]
  },
  {
   "cell_type": "code",
   "execution_count": 37,
   "id": "51417633-059f-4244-8a7c-488ce351513e",
   "metadata": {},
   "outputs": [
    {
     "name": "stdout",
     "output_type": "stream",
     "text": [
      "p value:0.1953\n",
      "Fail to reject null hypothesis >> The variances of the samples are same.\n"
     ]
    }
   ],
   "source": [
    "stat, pvalue_levene= stats.levene(method_A, method_B, method_C)\n",
    "\n",
    "print(\"p value:%.4f\" % pvalue_levene)\n",
    "if pvalue_levene <0.05:\n",
    "    print(\"Reject null hypothesis >> The variances of the samples are different.\")\n",
    "else:\n",
    "    print(\"Fail to reject null hypothesis >> The variances of the samples are same.\")"
   ]
  },
  {
   "cell_type": "markdown",
   "id": "493d9e52-c3c8-4d67-bf00-51b0c8726a50",
   "metadata": {},
   "source": [
    "p値:0.1953 : 帰無仮説を棄却できない→サンプルの分散は同じである。\n",
    "\n",
    "H₀：サンプルの分散は同じです。\n",
    "H₁：サンプルの分散が異なります。"
   ]
  },
  {
   "cell_type": "markdown",
   "id": "d1447ea4-5168-4321-9a52-f4950659132a",
   "metadata": {},
   "source": [
    "## 3.適切なテストの選択\n",
    "3つのグループがありますが、正規性の仮定に違反しています。したがって、精度スコアは同じテストセットから取得されるため、ペアデータにはノンパラメトリックバージョンのANOVAを使用する必要があります。"
   ]
  },
  {
   "cell_type": "code",
   "execution_count": 38,
   "id": "ab0cc0b4-c15d-4a3a-95f2-36e80f23cae9",
   "metadata": {},
   "outputs": [
    {
     "name": "stdout",
     "output_type": "stream",
     "text": [
      "p value:0.0015\n",
      "Reject null hypothesis\n",
      "89.35 89.49 90.49\n"
     ]
    }
   ],
   "source": [
    "test_stat,p_value = stats.friedmanchisquare(method_A,method_B, method_C)\n",
    "print(\"p value:%.4f\" % p_value)\n",
    "if p_value <0.05:\n",
    "    print(\"Reject null hypothesis\")\n",
    "else:\n",
    "    print(\"Fail to reject null hypothesis\")\n",
    "    \n",
    "print(np.round(np.mean(method_A),2), np.round(np.mean(method_B),2), np.round(np.mean(method_C),2))    "
   ]
  },
  {
   "cell_type": "markdown",
   "id": "0ec65a56-7ad0-435a-aa2f-4f139f356864",
   "metadata": {},
   "source": [
    "p値:0.0015 : 帰無仮説を棄却する\n",
    "\n",
    "89.35 89.49 90.49\n",
    "\n",
    "この有意水準では、少なくとも1つのメソッドのパフォーマンスが異なります。\n",
    "\n",
    "注：データは正常ではないため、事後検定のノンパラメトリックバージョンが使用されます。"
   ]
  },
  {
   "cell_type": "code",
   "execution_count": 40,
   "id": "af72c0a0-9877-45c9-b4e0-fc5262516378",
   "metadata": {},
   "outputs": [
    {
     "data": {
      "text/html": [
       "<style type=\"text/css\">\n",
       "#T_8dd7a_row0_col0, #T_8dd7a_row0_col1, #T_8dd7a_row1_col0, #T_8dd7a_row1_col1, #T_8dd7a_row2_col2 {\n",
       "  background-color: balck;\n",
       "}\n",
       "#T_8dd7a_row0_col2, #T_8dd7a_row1_col2, #T_8dd7a_row2_col0, #T_8dd7a_row2_col1 {\n",
       "  background-color: violet;\n",
       "}\n",
       "</style>\n",
       "<table id=\"T_8dd7a\">\n",
       "  <thead>\n",
       "    <tr>\n",
       "      <th class=\"blank level0\" >&nbsp;</th>\n",
       "      <th id=\"T_8dd7a_level0_col0\" class=\"col_heading level0 col0\" >Method A</th>\n",
       "      <th id=\"T_8dd7a_level0_col1\" class=\"col_heading level0 col1\" >Method B</th>\n",
       "      <th id=\"T_8dd7a_level0_col2\" class=\"col_heading level0 col2\" >Method C</th>\n",
       "    </tr>\n",
       "  </thead>\n",
       "  <tbody>\n",
       "    <tr>\n",
       "      <th id=\"T_8dd7a_level0_row0\" class=\"row_heading level0 row0\" >Method A</th>\n",
       "      <td id=\"T_8dd7a_row0_col0\" class=\"data row0 col0\" >1.000000</td>\n",
       "      <td id=\"T_8dd7a_row0_col1\" class=\"data row0 col1\" >0.078125</td>\n",
       "      <td id=\"T_8dd7a_row0_col2\" class=\"data row0 col2\" >0.023438</td>\n",
       "    </tr>\n",
       "    <tr>\n",
       "      <th id=\"T_8dd7a_level0_row1\" class=\"row_heading level0 row1\" >Method B</th>\n",
       "      <td id=\"T_8dd7a_row1_col0\" class=\"data row1 col0\" >0.078125</td>\n",
       "      <td id=\"T_8dd7a_row1_col1\" class=\"data row1 col1\" >1.000000</td>\n",
       "      <td id=\"T_8dd7a_row1_col2\" class=\"data row1 col2\" >0.023438</td>\n",
       "    </tr>\n",
       "    <tr>\n",
       "      <th id=\"T_8dd7a_level0_row2\" class=\"row_heading level0 row2\" >Method C</th>\n",
       "      <td id=\"T_8dd7a_row2_col0\" class=\"data row2 col0\" >0.023438</td>\n",
       "      <td id=\"T_8dd7a_row2_col1\" class=\"data row2 col1\" >0.023438</td>\n",
       "      <td id=\"T_8dd7a_row2_col2\" class=\"data row2 col2\" >1.000000</td>\n",
       "    </tr>\n",
       "  </tbody>\n",
       "</table>\n"
      ],
      "text/plain": [
       "<pandas.io.formats.style.Styler at 0x18ffb49c850>"
      ]
     },
     "execution_count": 40,
     "metadata": {},
     "output_type": "execute_result"
    }
   ],
   "source": [
    "data = np.array([method_A, method_B, method_C]) \n",
    "posthoc_df=sp.posthoc_wilcoxon(data, p_adjust=\"holm\")\n",
    "# posthoc_df = sp.posthoc_nemenyi_friedman(data.T) ## another option for the posthoc test\n",
    "\n",
    "group_names= [\"Method A\", \"Method B\",\"Method C\"]\n",
    "posthoc_df.columns= group_names\n",
    "posthoc_df.index= group_names\n",
    "posthoc_df.style.applymap(lambda x: \"background-color:violet\" if x<0.05 else \"background-color: balck\")"
   ]
  },
  {
   "cell_type": "markdown",
   "id": "154c746b-56ae-4afa-80ed-7e8937e01c2a",
   "metadata": {},
   "source": [
    "方法Cは、他の方法よりも優れた精度のスコアを達成しました。"
   ]
  },
  {
   "cell_type": "markdown",
   "id": "708df6a5-a6c3-458b-986c-04ac5f96f984",
   "metadata": {},
   "source": [
    "# Q8. 適合度（ボーナス:)\n",
    "\n",
    "金融投資会社のアナリストは、性別とリスク食欲の関係に興味を持っています。データベースから660人の顧客からランダムサンプルを取得しました。\n",
    "サンプルの顧客は、性別とリスク意欲に従って分類されました。結果を次の表に示します。\n",
    "\n",
    "この会社の顧客のリスク食欲は性別とは無関係であるという仮説を検証します。α=0.01を使用します。\n",
    "\n",
    "## 1.仮説の定義\n",
    "\n",
    "H₀：性別とリスクに対する食欲は独立しています。\n",
    "\n",
    "H₁：性別とリスクに対する食欲は依存しています。\n",
    "\n",
    "## 2.適切なテストと仮定のチェックの選択\n",
    "\n",
    "この質問にはカイ2乗検定を使用する必要があります。\n",
    "\n",
    "このテストは、適合度テストとして知られています。\n",
    "\n",
    "これは、観測されたデータが期待されるデータに非常に近い場合を意味します。Ei≥5（セルの少なくとも80％）ごとにこのテストの仮定が満たされます。\n",
    "\n"
   ]
  },
  {
   "cell_type": "code",
   "execution_count": 41,
   "id": "6c48c648-7a99-4a0d-88d9-552ce63d136f",
   "metadata": {},
   "outputs": [
    {
     "name": "stdout",
     "output_type": "stream",
     "text": [
      "expected frequencies:\n",
      "  [[ 43.21  24.74  28.23  32.41 101.41]\n",
      " [ 80.79  46.26  52.77  60.59 189.59]]\n",
      "degrees of freedom: 4\n",
      "test stat :7.0942\n",
      "p value:0.1310\n"
     ]
    }
   ],
   "source": [
    "from scipy.stats import chi2_contingency\n",
    "\n",
    "obs =np.array([[53, 23, 30, 36, 88],[71, 48, 51, 57, 203]])\n",
    "chi2, p, dof, ex = chi2_contingency(obs, correction=False)\n",
    "\n",
    "print(\"expected frequencies:\\n \", np.round(ex,2))\n",
    "print(\"degrees of freedom:\", dof)\n",
    "print(\"test stat :%.4f\" % chi2)\n",
    "print(\"p value:%.4f\" % p)"
   ]
  },
  {
   "cell_type": "code",
   "execution_count": 42,
   "id": "67151b31-8f1a-44b1-9986-ea176b037b95",
   "metadata": {},
   "outputs": [
    {
     "name": "stdout",
     "output_type": "stream",
     "text": [
      "critical stat:13.2767\n"
     ]
    }
   ],
   "source": [
    "from scipy.stats import chi2\n",
    "## calculate critical stat\n",
    "\n",
    "alpha = 0.01\n",
    "df = (5-1)*(2-1)\n",
    "critical_stat = chi2.ppf((1-alpha), df)\n",
    "print(\"critical stat:%.4f\" % critical_stat)"
   ]
  },
  {
   "cell_type": "markdown",
   "id": "79ec165e-0ea4-40f1-a4e0-36f6db785ce5",
   "metadata": {},
   "source": [
    "## 3.決定と結論\n",
    "\n",
    "臨界統計量：13.2767\n",
    "\n",
    "p 値が α=0.01 より大きい（あるいは計算された統計量=7.14 が臨界統計量=13.28 より小さい）ので、H0 を棄却することはできない。\n",
    "\n",
    "この有意水準では、性別とリスク選好は独立であると結論づけられる。"
   ]
  },
  {
   "cell_type": "markdown",
   "id": "0289db35-467a-41db-b421-3181b9e32941",
   "metadata": {},
   "source": [
    "[参照１](https://github.com/eceisik/eip/blob/main/hypothesis_testing_examples.ipynb)\n",
    "\n",
    "[参照２](https://towardsdatascience.com/hypothesis-testing-with-python-step-by-step-hands-on-tutorial-with-practical-examples-e805975ea96e)"
   ]
  }
 ],
 "metadata": {
  "kernelspec": {
   "display_name": "ML",
   "language": "python",
   "name": "ml"
  },
  "language_info": {
   "codemirror_mode": {
    "name": "ipython",
    "version": 3
   },
   "file_extension": ".py",
   "mimetype": "text/x-python",
   "name": "python",
   "nbconvert_exporter": "python",
   "pygments_lexer": "ipython3",
   "version": "3.8.0"
  }
 },
 "nbformat": 4,
 "nbformat_minor": 5
}
